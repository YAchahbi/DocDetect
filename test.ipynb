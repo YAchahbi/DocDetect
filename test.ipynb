{
 "cells": [
  {
   "cell_type": "code",
   "execution_count": 1,
   "metadata": {},
   "outputs": [
    {
     "name": "stdout",
     "output_type": "stream",
     "text": [
      "{'All Results': [{'image_saved': 'output\\\\page_1_20241115_094858.jpg', 'page_number': 1, 'all_text_details': [{'text': 'EN PARTENARIAT AVEC', 'confidence': 0.9702985925708679, 'matched_keywords': ['DRIVER_LICENSE']}, {'text': 'PAGE 1/1', 'confidence': 0.8648238953669474, 'matched_keywords': []}, {'text': 'SWAN', 'confidence': 0.5668978095054626, 'matched_keywords': []}, {'text': 'RELEVÉ DE COMPTE', 'confidence': 0.9944477049879945, 'matched_keywords': []}, {'text': 'VOTRE NOM', 'confidence': 0.7754561877785973, 'matched_keywords': []}, {'text': 'VOTRE ADRESSE', 'confidence': 0.9843636535945973, 'matched_keywords': []}, {'text': 'ADRESSE ET CONTACT', 'confidence': 0.9809727719570073, 'matched_keywords': []}, {'text': 'CODE POSTAL', 'confidence': 0.9930732747842511, 'matched_keywords': []}, {'text': \"DE L'ORGANISME DE PAIEMENT\", 'confidence': 0.8121012972946864, 'matched_keywords': []}, {'text': 'IBAN', 'confidence': 0.9996166825294495, 'matched_keywords': []}, {'text': 'FROO 00OO 0000 0OO0 0000 0O00 000', 'confidence': 0.10954608146622584, 'matched_keywords': []}, {'text': 'DU 01/01/2024 AU 31/01/2024', 'confidence': 0.8072044560893931, 'matched_keywords': []}, {'text': \"SOLDE D'OUVERTURE\", 'confidence': 0.9522813288874797, 'matched_keywords': []}, {'text': '1000', 'confidence': 0.9964151382446289, 'matched_keywords': []}, {'text': 'DATE', 'confidence': 0.999966306739523, 'matched_keywords': []}, {'text': 'TYPE', 'confidence': 0.9999662041664124, 'matched_keywords': []}, {'text': 'DESCRIPTION', 'confidence': 0.6991336186823666, 'matched_keywords': []}, {'text': 'CRÉDIT (€)', 'confidence': 0.9911378350748089, 'matched_keywords': []}, {'text': 'DÉBIT (€)', 'confidence': 0.6947119515715489, 'matched_keywords': []}, {'text': '03/01/2024', 'confidence': 0.9999882007086138, 'matched_keywords': []}, {'text': 'CARTE', 'confidence': 0.9988657198763065, 'matched_keywords': []}, {'text': 'OBJET/NOM DU PRESTATAIRE', 'confidence': 0.9351809800264388, 'matched_keywords': []}, {'text': '100', 'confidence': 0.987764707964437, 'matched_keywords': []}, {'text': '05/01/2024', 'confidence': 0.9598630914856281, 'matched_keywords': []}, {'text': 'CARTE', 'confidence': 0.9999894975265359, 'matched_keywords': []}, {'text': 'OBJET/NOM DU PRESTATAIRE', 'confidence': 0.951991394007226, 'matched_keywords': []}, {'text': '50,50', 'confidence': 0.9992084096676362, 'matched_keywords': []}, {'text': '18/01/2024', 'confidence': 0.7101625869356732, 'matched_keywords': []}, {'text': 'CARTE', 'confidence': 0.9999883246606708, 'matched_keywords': []}, {'text': 'OBJET/NOM DU PRESTATAIRE', 'confidence': 0.9289919813900759, 'matched_keywords': []}, {'text': '150', 'confidence': 0.9999347536965667, 'matched_keywords': []}, {'text': '22/01/2024', 'confidence': 0.7754234250551619, 'matched_keywords': []}, {'text': 'CARTE', 'confidence': 0.9999791016643459, 'matched_keywords': []}, {'text': 'OBJET/NOM DU PRESTATAIRE', 'confidence': 0.6990581868042621, 'matched_keywords': []}, {'text': '70,50', 'confidence': 0.48209592351863434, 'matched_keywords': []}, {'text': '28/01/2024', 'confidence': 0.950921695647305, 'matched_keywords': []}, {'text': 'CARTE', 'confidence': 0.9999890710298764, 'matched_keywords': []}, {'text': 'OBJET/NOM DU PRESTATAIRE', 'confidence': 0.7938307269357517, 'matched_keywords': []}, {'text': '200', 'confidence': 0.999492016159974, 'matched_keywords': []}, {'text': 'FRAIS', 'confidence': 0.9999956284136424, 'matched_keywords': []}, {'text': '0.00', 'confidence': 0.8726961652297691, 'matched_keywords': []}, {'text': '0.00', 'confidence': 0.8618063534410592, 'matched_keywords': []}, {'text': 'TOTAL', 'confidence': 0.9996899849601919, 'matched_keywords': []}, {'text': '150', 'confidence': 0.9998324805754544, 'matched_keywords': []}, {'text': '421', 'confidence': 0.9960517883300781, 'matched_keywords': []}, {'text': 'SOLDE FINAL', 'confidence': 0.8060427906762483, 'matched_keywords': []}, {'text': '579', 'confidence': 0.9999996558724309, 'matched_keywords': []}, {'text': 'INDY', 'confidence': 0.9999567270278931, 'matched_keywords': []}]}, {'image_saved': 'output\\\\page_2_20241115_094917.jpg', 'page_number': 2, 'all_text_details': [{'text': 'ROYAUME DU MAROC', 'confidence': 0.6656776715859196, 'matched_keywords': ['CIN']}, {'text': 'A4 ) AS LOOJ)', 'confidence': 0.0283796364066191, 'matched_keywords': []}, {'text': \"CARTE NATIONALE D'IDENTITE\", 'confidence': 0.4638383224988717, 'matched_keywords': []}, {'text': 'LUW IBJI ASUYL', 'confidence': 0.008890608654209538, 'matched_keywords': []}, {'text': '032', 'confidence': 0.06727242636023001, 'matched_keywords': []}, {'text': 'MOUHCINE', 'confidence': 0.9661172968853401, 'matched_keywords': []}, {'text': 'TEMSAMANI', 'confidence': 0.9990852170917166, 'matched_keywords': []}, {'text': 'NÉLE', 'confidence': 0.8991756439208984, 'matched_keywords': []}, {'text': '29.11.1978', 'confidence': 0.7263959461464078, 'matched_keywords': []}, {'text': 'JY', 'confidence': 0.31733359784476267, 'matched_keywords': []}, {'text': '~IB', 'confidence': 0.0855509972523175, 'matched_keywords': []}, {'text': '4ALV', 'confidence': 0.18163347244262695, 'matched_keywords': []}, {'text': 'A', 'confidence': 0.5572151982049753, 'matched_keywords': []}, {'text': 'TANGER ASSILAH', 'confidence': 0.9559142311839226, 'matched_keywords': []}, {'text': 'TANGER', 'confidence': 0.8626362260005932, 'matched_keywords': []}, {'text': '7', 'confidence': 0.16854369079279596, 'matched_keywords': []}, {'text': '31', 'confidence': 0.32661651016348825, 'matched_keywords': []}, {'text': 'ALI', 'confidence': 0.20111027101966175, 'matched_keywords': []}, {'text': '8R E', 'confidence': 0.020500272512435913, 'matched_keywords': []}, {'text': '8', 'confidence': 0.1391196817012883, 'matched_keywords': []}, {'text': '19', 'confidence': 0.999921017719485, 'matched_keywords': []}, {'text': '3', 'confidence': 0.7542110721629456, 'matched_keywords': []}, {'text': '~UL +', 'confidence': 0.08307165675924529, 'matched_keywords': []}, {'text': 'NO', 'confidence': 0.8762356935540137, 'matched_keywords': []}, {'text': 'K01234567', 'confidence': 0.8785558563237202, 'matched_keywords': ['CIN']}, {'text': \"VALABLE JUSQU'AU 09.09.2029 42\", 'confidence': 0.5140057836748708, 'matched_keywords': []}, {'text': '2LE', 'confidence': 0.14169312436152495, 'matched_keywords': []}, {'text': '$LJI', 'confidence': 0.1436326950788498, 'matched_keywords': []}, {'text': '44', 'confidence': 0.3691854398038332, 'matched_keywords': []}, {'text': 'ÀX', 'confidence': 0.13918710267515258, 'matched_keywords': []}, {'text': '3', 'confidence': 0.1696768433307847, 'matched_keywords': []}, {'text': 'HI', 'confidence': 0.07838472870408134, 'matched_keywords': []}, {'text': 'J', 'confidence': 0.45466186156781774, 'matched_keywords': []}]}], 'global_confidence': {'confidence_per_doc_type': {'DRIVER_LICENSE': 66.66666666666666, 'CIN': 50.0}, 'image_saved': ['output\\\\page_1_20241115_094858.jpg', 'output\\\\page_2_20241115_094917.jpg']}}\n"
     ]
    }
   ],
   "source": [
    "import requests\n",
    "\n",
    "url = \"http://localhost:1080/process_pdf/\"\n",
    "files = {\"file\": (\"cp.pdf\", open(\"releve_cin_merged.pdf\", \"rb\"), \"application/pdf\")}\n",
    "response = requests.post(url, files=files\n",
    "                            \n",
    "                         \n",
    "                         \n",
    "                         \n",
    "                         )\n",
    "print(response.json())\n"
   ]
  }
 ],
 "metadata": {
  "kernelspec": {
   "display_name": "Python 3",
   "language": "python",
   "name": "python3"
  },
  "language_info": {
   "codemirror_mode": {
    "name": "ipython",
    "version": 3
   },
   "file_extension": ".py",
   "mimetype": "text/x-python",
   "name": "python",
   "nbconvert_exporter": "python",
   "pygments_lexer": "ipython3",
   "version": "3.8.0"
  }
 },
 "nbformat": 4,
 "nbformat_minor": 2
}
